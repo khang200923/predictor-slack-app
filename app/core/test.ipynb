{
 "cells": [
  {
   "cell_type": "code",
   "execution_count": 1,
   "metadata": {},
   "outputs": [],
   "source": [
    "import core\n",
    "import json"
   ]
  },
  {
   "cell_type": "code",
   "execution_count": 2,
   "metadata": {},
   "outputs": [
    {
     "data": {
      "text/plain": [
       "{'no': ['OpenAI may prefer candidates with extensive industry experience, which you may lack as a recent graduate or a less socially engaged individual (Strength: 8)',\n",
       "  'The competitive nature of job openings at OpenAI means many qualified candidates may already possess stronger interpersonal skills, making them more favorable in hiring decisions (Strength: 7)',\n",
       "  'Specific positions at OpenAI may require unique qualifications or prior work experience that you do not meet, impacting your chances (Strength: 6)'],\n",
       " 'yes': [\"Your Master's degree in computer science is highly relevant and aligns well with the technical requirements of many roles at OpenAI (Strength: 9)\",\n",
       "  \"Having trained your own GPT model demonstrates significant hands-on experience with AI, which may appeal to OpenAI's focus on practical knowledge (Strength: 8)\",\n",
       "  'The current demand for AI talent is high, increasing overall hiring opportunities despite individual competition (Strength: 7)'],\n",
       " 'thinking': \"The factors weighing against hiring include potential gaps in industry experience and interpersonal skills, which are important in collaborative environments like OpenAI. On the other hand, your strong educational background and practical AI knowledge are significant assets. The high demand for AI professionals could also offset some of the disadvantages you may have, but it's essential to consider how effectively you can present your skills and experiences. Overall, the tug-of-war is between technical qualifications and interpersonal fit—critical aspects for OpenAI's culture.\",\n",
       " 'tentative': 0.65,\n",
       " 'reflecting': 'In evaluating the initial probability of being hired by OpenAI, I considered the strong relevance of your qualifications and experiences against the backdrop of competitive hiring practices. While you possess formidable technical skills, social engagement may impact your candidacy negatively, particularly in a company that values collaboration and innovation. Overall, while the potential for hiring exists, there are significant hurdles to overcome. Therefore, I believe a 65% chance of getting hired strikes a reasonable balance between the strengths and challenges presented by the information available.',\n",
       " 'answer': 0.65}"
      ]
     },
     "execution_count": 2,
     "metadata": {},
     "output_type": "execute_result"
    }
   ],
   "source": [
    "completion = core.predict(\"Will I get hired by OpenAI by the end of 2024? I have a Master's degree in computer science. I trained my own GPT model. I am not very social\")\n",
    "json.loads(completion.choices[0].message.content)"
   ]
  },
  {
   "cell_type": "code",
   "execution_count": null,
   "metadata": {},
   "outputs": [],
   "source": []
  }
 ],
 "metadata": {
  "kernelspec": {
   "display_name": "Python 3",
   "language": "python",
   "name": "python3"
  },
  "language_info": {
   "codemirror_mode": {
    "name": "ipython",
    "version": 3
   },
   "file_extension": ".py",
   "mimetype": "text/x-python",
   "name": "python",
   "nbconvert_exporter": "python",
   "pygments_lexer": "ipython3",
   "version": "3.12.6"
  }
 },
 "nbformat": 4,
 "nbformat_minor": 2
}
